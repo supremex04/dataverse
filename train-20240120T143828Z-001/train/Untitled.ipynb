{
 "cells": [
  {
   "cell_type": "code",
   "execution_count": 11,
   "id": "0fadcd58",
   "metadata": {},
   "outputs": [
    {
     "name": "stdout",
     "output_type": "stream",
     "text": [
      "Collecting import_ipynb\n",
      "  Using cached import_ipynb-0.1.4-py3-none-any.whl (4.1 kB)\n",
      "Collecting IPython (from import_ipynb)\n",
      "  Obtaining dependency information for IPython from https://files.pythonhosted.org/packages/db/04/1bf767de3ee9e462a09efb1eab3074d715ef5ab582b8a0cb6d5d5615212d/ipython-8.20.0-py3-none-any.whl.metadata\n",
      "  Downloading ipython-8.20.0-py3-none-any.whl.metadata (5.9 kB)\n",
      "Collecting nbformat (from import_ipynb)\n",
      "  Obtaining dependency information for nbformat from https://files.pythonhosted.org/packages/f4/e7/ef30a90b70eba39e675689b9eaaa92530a71d7435ab8f9cae520814e0caf/nbformat-5.9.2-py3-none-any.whl.metadata\n",
      "  Downloading nbformat-5.9.2-py3-none-any.whl.metadata (3.4 kB)\n",
      "Collecting decorator (from IPython->import_ipynb)\n",
      "  Using cached decorator-5.1.1-py3-none-any.whl (9.1 kB)\n",
      "Collecting jedi>=0.16 (from IPython->import_ipynb)\n",
      "  Obtaining dependency information for jedi>=0.16 from https://files.pythonhosted.org/packages/20/9f/bc63f0f0737ad7a60800bfd472a4836661adae21f9c2535f3957b1e54ceb/jedi-0.19.1-py2.py3-none-any.whl.metadata\n",
      "  Downloading jedi-0.19.1-py2.py3-none-any.whl.metadata (22 kB)\n",
      "Collecting matplotlib-inline (from IPython->import_ipynb)\n",
      "  Using cached matplotlib_inline-0.1.6-py3-none-any.whl (9.4 kB)\n",
      "Collecting prompt-toolkit<3.1.0,>=3.0.41 (from IPython->import_ipynb)\n",
      "  Obtaining dependency information for prompt-toolkit<3.1.0,>=3.0.41 from https://files.pythonhosted.org/packages/ee/fd/ca7bf3869e7caa7a037e23078539467b433a4e01eebd93f77180ab927766/prompt_toolkit-3.0.43-py3-none-any.whl.metadata\n",
      "  Downloading prompt_toolkit-3.0.43-py3-none-any.whl.metadata (6.5 kB)\n",
      "Collecting pygments>=2.4.0 (from IPython->import_ipynb)\n",
      "  Obtaining dependency information for pygments>=2.4.0 from https://files.pythonhosted.org/packages/97/9c/372fef8377a6e340b1704768d20daaded98bf13282b5327beb2e2fe2c7ef/pygments-2.17.2-py3-none-any.whl.metadata\n",
      "  Downloading pygments-2.17.2-py3-none-any.whl.metadata (2.6 kB)\n",
      "Collecting stack-data (from IPython->import_ipynb)\n",
      "  Obtaining dependency information for stack-data from https://files.pythonhosted.org/packages/f1/7b/ce1eafaf1a76852e2ec9b22edecf1daa58175c090266e9f6c64afcd81d91/stack_data-0.6.3-py3-none-any.whl.metadata\n",
      "  Downloading stack_data-0.6.3-py3-none-any.whl.metadata (18 kB)\n",
      "Collecting traitlets>=5 (from IPython->import_ipynb)\n",
      "  Obtaining dependency information for traitlets>=5 from https://files.pythonhosted.org/packages/45/34/5dc77fdc7bb4bd198317eea5679edf9cc0a186438b5b19dbb9062fb0f4d5/traitlets-5.14.1-py3-none-any.whl.metadata\n",
      "  Downloading traitlets-5.14.1-py3-none-any.whl.metadata (10 kB)\n",
      "Requirement already satisfied: colorama in c:\\python312\\lib\\site-packages (from IPython->import_ipynb) (0.4.6)\n",
      "Collecting fastjsonschema (from nbformat->import_ipynb)\n",
      "  Obtaining dependency information for fastjsonschema from https://files.pythonhosted.org/packages/9c/b9/79691036d4a8f9857e74d1728b23f34f583b81350a27492edda58d5604e1/fastjsonschema-2.19.1-py3-none-any.whl.metadata\n",
      "  Downloading fastjsonschema-2.19.1-py3-none-any.whl.metadata (2.1 kB)\n",
      "Collecting jsonschema>=2.6 (from nbformat->import_ipynb)\n",
      "  Obtaining dependency information for jsonschema>=2.6 from https://files.pythonhosted.org/packages/39/9d/b035d024c62c85f2e2d4806a59ca7b8520307f34e0932fbc8cc75fe7b2d9/jsonschema-4.21.1-py3-none-any.whl.metadata\n",
      "  Downloading jsonschema-4.21.1-py3-none-any.whl.metadata (7.8 kB)\n",
      "Collecting jupyter-core (from nbformat->import_ipynb)\n",
      "  Obtaining dependency information for jupyter-core from https://files.pythonhosted.org/packages/86/a1/354cade6907f2fbbd32d89872ec64b62406028e7645ac13acfdb5732829e/jupyter_core-5.7.1-py3-none-any.whl.metadata\n",
      "  Downloading jupyter_core-5.7.1-py3-none-any.whl.metadata (3.4 kB)\n",
      "Collecting parso<0.9.0,>=0.8.3 (from jedi>=0.16->IPython->import_ipynb)\n",
      "  Using cached parso-0.8.3-py2.py3-none-any.whl (100 kB)\n",
      "Collecting attrs>=22.2.0 (from jsonschema>=2.6->nbformat->import_ipynb)\n",
      "  Obtaining dependency information for attrs>=22.2.0 from https://files.pythonhosted.org/packages/e0/44/827b2a91a5816512fcaf3cc4ebc465ccd5d598c45cefa6703fcf4a79018f/attrs-23.2.0-py3-none-any.whl.metadata\n",
      "  Downloading attrs-23.2.0-py3-none-any.whl.metadata (9.5 kB)\n",
      "Collecting jsonschema-specifications>=2023.03.6 (from jsonschema>=2.6->nbformat->import_ipynb)\n",
      "  Obtaining dependency information for jsonschema-specifications>=2023.03.6 from https://files.pythonhosted.org/packages/ee/07/44bd408781594c4d0a027666ef27fab1e441b109dc3b76b4f836f8fd04fe/jsonschema_specifications-2023.12.1-py3-none-any.whl.metadata\n",
      "  Downloading jsonschema_specifications-2023.12.1-py3-none-any.whl.metadata (3.0 kB)\n",
      "Collecting referencing>=0.28.4 (from jsonschema>=2.6->nbformat->import_ipynb)\n",
      "  Obtaining dependency information for referencing>=0.28.4 from https://files.pythonhosted.org/packages/14/2a/0a9f649354cd2d40f6c4f16eadabd9727377e3b9bc2ccec6cb630d9a6765/referencing-0.32.1-py3-none-any.whl.metadata\n",
      "  Downloading referencing-0.32.1-py3-none-any.whl.metadata (2.7 kB)\n",
      "Collecting rpds-py>=0.7.1 (from jsonschema>=2.6->nbformat->import_ipynb)\n",
      "  Obtaining dependency information for rpds-py>=0.7.1 from https://files.pythonhosted.org/packages/df/bf/b464b2dad90fa3528956d0c789b835e4c661ebb917bb487d11ff1eac5c67/rpds_py-0.17.1-cp312-none-win_amd64.whl.metadata\n",
      "  Downloading rpds_py-0.17.1-cp312-none-win_amd64.whl.metadata (4.2 kB)\n",
      "Collecting wcwidth (from prompt-toolkit<3.1.0,>=3.0.41->IPython->import_ipynb)\n",
      "  Obtaining dependency information for wcwidth from https://files.pythonhosted.org/packages/fd/84/fd2ba7aafacbad3c4201d395674fc6348826569da3c0937e75505ead3528/wcwidth-0.2.13-py2.py3-none-any.whl.metadata\n",
      "  Downloading wcwidth-0.2.13-py2.py3-none-any.whl.metadata (14 kB)\n",
      "Collecting platformdirs>=2.5 (from jupyter-core->nbformat->import_ipynb)\n",
      "  Obtaining dependency information for platformdirs>=2.5 from https://files.pythonhosted.org/packages/be/53/42fe5eab4a09d251a76d0043e018172db324a23fcdac70f77a551c11f618/platformdirs-4.1.0-py3-none-any.whl.metadata\n",
      "  Downloading platformdirs-4.1.0-py3-none-any.whl.metadata (11 kB)\n",
      "Collecting pywin32>=300 (from jupyter-core->nbformat->import_ipynb)\n",
      "  Downloading pywin32-306-cp312-cp312-win_amd64.whl (9.2 MB)\n",
      "     ---------------------------------------- 0.0/9.2 MB ? eta -:--:--\n",
      "     ---------------------------------------- 0.0/9.2 MB 1.9 MB/s eta 0:00:05\n",
      "      --------------------------------------- 0.1/9.2 MB 2.1 MB/s eta 0:00:05\n",
      "     - -------------------------------------- 0.3/9.2 MB 2.3 MB/s eta 0:00:04\n",
      "     -- ------------------------------------- 0.5/9.2 MB 3.3 MB/s eta 0:00:03\n",
      "     --- ------------------------------------ 0.8/9.2 MB 3.8 MB/s eta 0:00:03\n",
      "     ----- ---------------------------------- 1.2/9.2 MB 4.4 MB/s eta 0:00:02\n",
      "     -------- ------------------------------- 2.0/9.2 MB 6.8 MB/s eta 0:00:02\n",
      "     ------------ --------------------------- 2.8/9.2 MB 8.2 MB/s eta 0:00:01\n",
      "     --------------- ------------------------ 3.7/9.2 MB 9.3 MB/s eta 0:00:01\n",
      "     ------------------- -------------------- 4.4/9.2 MB 10.1 MB/s eta 0:00:01\n",
      "     ------------------- -------------------- 4.5/9.2 MB 9.9 MB/s eta 0:00:01\n",
      "     ------------------- -------------------- 4.5/9.2 MB 9.9 MB/s eta 0:00:01\n",
      "     ---------------------------- ----------- 6.5/9.2 MB 11.2 MB/s eta 0:00:01\n",
      "     ------------------------------ --------- 7.1/9.2 MB 11.3 MB/s eta 0:00:01\n",
      "     ---------------------------------- ----- 7.9/9.2 MB 11.7 MB/s eta 0:00:01\n",
      "     -------------------------------------- - 8.8/9.2 MB 12.2 MB/s eta 0:00:01\n",
      "     ---------------------------------------  9.2/9.2 MB 12.3 MB/s eta 0:00:01\n",
      "     ---------------------------------------- 9.2/9.2 MB 11.6 MB/s eta 0:00:00\n",
      "Collecting executing>=1.2.0 (from stack-data->IPython->import_ipynb)\n",
      "  Obtaining dependency information for executing>=1.2.0 from https://files.pythonhosted.org/packages/80/03/6ea8b1b2a5ab40a7a60dc464d3daa7aa546e0a74d74a9f8ff551ea7905db/executing-2.0.1-py2.py3-none-any.whl.metadata\n",
      "  Downloading executing-2.0.1-py2.py3-none-any.whl.metadata (9.0 kB)\n",
      "Collecting asttokens>=2.1.0 (from stack-data->IPython->import_ipynb)\n",
      "  Obtaining dependency information for asttokens>=2.1.0 from https://files.pythonhosted.org/packages/45/86/4736ac618d82a20d87d2f92ae19441ebc7ac9e7a581d7e58bbe79233b24a/asttokens-2.4.1-py2.py3-none-any.whl.metadata\n",
      "  Downloading asttokens-2.4.1-py2.py3-none-any.whl.metadata (5.2 kB)\n",
      "Collecting pure-eval (from stack-data->IPython->import_ipynb)\n",
      "  Using cached pure_eval-0.2.2-py3-none-any.whl (11 kB)\n",
      "Collecting six>=1.12.0 (from asttokens>=2.1.0->stack-data->IPython->import_ipynb)\n",
      "  Using cached six-1.16.0-py2.py3-none-any.whl (11 kB)\n",
      "Downloading ipython-8.20.0-py3-none-any.whl (809 kB)\n",
      "   ---------------------------------------- 0.0/809.2 kB ? eta -:--:--\n",
      "   --------------------------------------- 809.2/809.2 kB 17.0 MB/s eta 0:00:00\n",
      "Downloading nbformat-5.9.2-py3-none-any.whl (77 kB)\n",
      "   ---------------------------------------- 0.0/77.6 kB ? eta -:--:--\n",
      "   ---------------------------------------- 77.6/77.6 kB 4.2 MB/s eta 0:00:00\n",
      "Downloading jedi-0.19.1-py2.py3-none-any.whl (1.6 MB)\n",
      "   ---------------------------------------- 0.0/1.6 MB ? eta -:--:--\n",
      "   ----------------- ---------------------- 0.7/1.6 MB 22.1 MB/s eta 0:00:01\n",
      "   -------------------------------------- - 1.5/1.6 MB 19.4 MB/s eta 0:00:01\n",
      "   ---------------------------------------- 1.6/1.6 MB 20.0 MB/s eta 0:00:00\n",
      "Downloading jsonschema-4.21.1-py3-none-any.whl (85 kB)\n",
      "   ---------------------------------------- 0.0/85.5 kB ? eta -:--:--\n",
      "   ---------------------------------------- 85.5/85.5 kB 5.0 MB/s eta 0:00:00\n",
      "Downloading prompt_toolkit-3.0.43-py3-none-any.whl (386 kB)\n",
      "   ---------------------------------------- 0.0/386.1 kB ? eta -:--:--\n",
      "   --------------------------------------- 386.1/386.1 kB 25.1 MB/s eta 0:00:00\n",
      "Downloading pygments-2.17.2-py3-none-any.whl (1.2 MB)\n",
      "   ---------------------------------------- 0.0/1.2 MB ? eta -:--:--\n",
      "   --------------------------- ------------ 0.8/1.2 MB 25.8 MB/s eta 0:00:01\n",
      "   ---------------------------------------- 1.2/1.2 MB 18.9 MB/s eta 0:00:00\n",
      "Downloading traitlets-5.14.1-py3-none-any.whl (85 kB)\n",
      "   ---------------------------------------- 0.0/85.4 kB ? eta -:--:--\n",
      "   ---------------------------------------- 85.4/85.4 kB 4.7 MB/s eta 0:00:00\n",
      "Downloading fastjsonschema-2.19.1-py3-none-any.whl (23 kB)\n",
      "Downloading jupyter_core-5.7.1-py3-none-any.whl (28 kB)\n",
      "Downloading stack_data-0.6.3-py3-none-any.whl (24 kB)\n",
      "Downloading asttokens-2.4.1-py2.py3-none-any.whl (27 kB)\n",
      "Downloading attrs-23.2.0-py3-none-any.whl (60 kB)\n",
      "   ---------------------------------------- 0.0/60.8 kB ? eta -:--:--\n",
      "   ---------------------------------------- 60.8/60.8 kB 3.4 MB/s eta 0:00:00\n",
      "Downloading executing-2.0.1-py2.py3-none-any.whl (24 kB)\n",
      "Downloading jsonschema_specifications-2023.12.1-py3-none-any.whl (18 kB)\n",
      "Downloading platformdirs-4.1.0-py3-none-any.whl (17 kB)\n",
      "Downloading referencing-0.32.1-py3-none-any.whl (26 kB)\n",
      "Downloading rpds_py-0.17.1-cp312-none-win_amd64.whl (205 kB)\n",
      "   ---------------------------------------- 0.0/205.7 kB ? eta -:--:--\n",
      "   --------------------------------------- 205.7/205.7 kB 13.0 MB/s eta 0:00:00\n",
      "Downloading wcwidth-0.2.13-py2.py3-none-any.whl (34 kB)\n",
      "Installing collected packages: wcwidth, pywin32, pure-eval, fastjsonschema, traitlets, six, rpds-py, pygments, prompt-toolkit, platformdirs, parso, executing, decorator, attrs, referencing, matplotlib-inline, jupyter-core, jedi, asttokens, stack-data, jsonschema-specifications, jsonschema, IPython, nbformat, import_ipynb\n"
     ]
    },
    {
     "name": "stderr",
     "output_type": "stream",
     "text": [
      "ERROR: Could not install packages due to an OSError: [Errno 13] Permission denied: 'C:\\\\Python312\\\\Scripts\\\\pywin32_postinstall.py'\n",
      "Consider using the `--user` option or check the permissions.\n",
      "\n",
      "\n",
      "[notice] A new release of pip is available: 23.2.1 -> 23.3.2\n",
      "[notice] To update, run: python.exe -m pip install --upgrade pip\n"
     ]
    }
   ],
   "source": [
    "!pip install import_ipynb\n"
   ]
  },
  {
   "cell_type": "code",
   "execution_count": 12,
   "id": "1a058ca4",
   "metadata": {},
   "outputs": [
    {
     "ename": "ModuleNotFoundError",
     "evalue": "No module named 'import_ipynb'",
     "output_type": "error",
     "traceback": [
      "\u001b[1;31m---------------------------------------------------------------------------\u001b[0m",
      "\u001b[1;31mModuleNotFoundError\u001b[0m                       Traceback (most recent call last)",
      "Cell \u001b[1;32mIn[12], line 1\u001b[0m\n\u001b[1;32m----> 1\u001b[0m \u001b[38;5;28;01mimport\u001b[39;00m \u001b[38;5;21;01mimport_ipynb\u001b[39;00m\n\u001b[0;32m      2\u001b[0m \u001b[38;5;28;01mimport\u001b[39;00m \u001b[38;5;21;01mos\u001b[39;00m\n\u001b[0;32m      3\u001b[0m \u001b[38;5;28;01mfrom\u001b[39;00m \u001b[38;5;21;01mdotenv\u001b[39;00m \u001b[38;5;28;01mimport\u001b[39;00m load_dotenv, find_dotenv\n",
      "\u001b[1;31mModuleNotFoundError\u001b[0m: No module named 'import_ipynb'"
     ]
    }
   ],
   "source": [
    "import import_ipynb\n",
    "import os\n",
    "from dotenv import load_dotenv, find_dotenv\n",
    "_= load_dotenv(find_dotenv())"
   ]
  },
  {
   "cell_type": "code",
   "execution_count": 6,
   "id": "fcde6f32",
   "metadata": {},
   "outputs": [
    {
     "ename": "ModuleNotFoundError",
     "evalue": "No module named 'openai'",
     "output_type": "error",
     "traceback": [
      "\u001b[1;31m---------------------------------------------------------------------------\u001b[0m",
      "\u001b[1;31mModuleNotFoundError\u001b[0m                       Traceback (most recent call last)",
      "Cell \u001b[1;32mIn[6], line 1\u001b[0m\n\u001b[1;32m----> 1\u001b[0m \u001b[38;5;28;01mfrom\u001b[39;00m \u001b[38;5;21;01mopenai\u001b[39;00m \u001b[38;5;28;01mimport\u001b[39;00m OpenAI\n\u001b[0;32m      2\u001b[0m client \u001b[38;5;241m=\u001b[39m OpenAI()\n\u001b[0;32m      4\u001b[0m completion \u001b[38;5;241m=\u001b[39m client\u001b[38;5;241m.\u001b[39mchat\u001b[38;5;241m.\u001b[39mcompletions\u001b[38;5;241m.\u001b[39mcreate(\n\u001b[0;32m      5\u001b[0m   model\u001b[38;5;241m=\u001b[39m\u001b[38;5;124m\"\u001b[39m\u001b[38;5;124mgpt-3.5-turbo\u001b[39m\u001b[38;5;124m\"\u001b[39m,\n\u001b[0;32m      6\u001b[0m   messages\u001b[38;5;241m=\u001b[39m[\n\u001b[1;32m   (...)\u001b[0m\n\u001b[0;32m      9\u001b[0m   ]\n\u001b[0;32m     10\u001b[0m )\n",
      "\u001b[1;31mModuleNotFoundError\u001b[0m: No module named 'openai'"
     ]
    }
   ],
   "source": [
    "from openai import OpenAI\n",
    "client = OpenAI()\n",
    "\n",
    "completion = client.chat.completions.create(\n",
    "  model=\"gpt-3.5-turbo\",\n",
    "  messages=[\n",
    "    {\"role\": \"system\", \"content\": \"You are a poetic assistant, skilled in explaining complex programming concepts with creative flair.\"},\n",
    "    {\"role\": \"user\", \"content\": \"Compose a poem that explains the concept of recursion in programming.\"}\n",
    "  ]\n",
    ")\n",
    "\n",
    "print(completion.choices[0].message)"
   ]
  },
  {
   "cell_type": "code",
   "execution_count": null,
   "id": "ea907129",
   "metadata": {},
   "outputs": [],
   "source": []
  }
 ],
 "metadata": {
  "kernelspec": {
   "display_name": "Python 3 (ipykernel)",
   "language": "python",
   "name": "python3"
  },
  "language_info": {
   "codemirror_mode": {
    "name": "ipython",
    "version": 3
   },
   "file_extension": ".py",
   "mimetype": "text/x-python",
   "name": "python",
   "nbconvert_exporter": "python",
   "pygments_lexer": "ipython3",
   "version": "3.10.5"
  }
 },
 "nbformat": 4,
 "nbformat_minor": 5
}
